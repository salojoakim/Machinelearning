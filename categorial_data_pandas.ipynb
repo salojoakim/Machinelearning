{
 "cells": [
  {
   "cell_type": "code",
   "execution_count": 1,
   "id": "05cdbae7-901b-4669-b8aa-225449a3c525",
   "metadata": {},
   "outputs": [],
   "source": [
    "import pandas as pd"
   ]
  },
  {
   "cell_type": "code",
   "execution_count": 2,
   "id": "3b00a680-f98b-41bd-99ab-db1c3c79fc8a",
   "metadata": {},
   "outputs": [
    {
     "name": "stdout",
     "output_type": "stream",
     "text": [
      "Original DataFrame:\n",
      "      Name  Gender Department\n",
      "0    Alice  Female         HR\n",
      "1      Bob    Male         IT\n",
      "2  Charlie    Male    Finance\n"
     ]
    }
   ],
   "source": [
    "# Sample DataFrame with categorical data\n",
    "data = {\n",
    "    'Name': ['Alice', 'Bob', 'Charlie'],\n",
    "    'Gender': ['Female', 'Male', 'Male'],\n",
    "    'Department': ['HR', 'IT', 'Finance']\n",
    "}\n",
    "\n",
    "df = pd.DataFrame(data)\n",
    "\n",
    "# Display the original DataFrame\n",
    "print(\"Original DataFrame:\")\n",
    "print(df)"
   ]
  },
  {
   "cell_type": "code",
   "execution_count": 3,
   "id": "197a5447-ed34-42ef-99af-1c1eec7590a7",
   "metadata": {},
   "outputs": [
    {
     "name": "stdout",
     "output_type": "stream",
     "text": [
      "\n",
      "DataFrame with Dummy Variables:\n",
      "      Name  Gender  Department_Finance  Department_HR  Department_IT\n",
      "0    Alice  Female               False           True          False\n",
      "1      Bob    Male               False          False           True\n",
      "2  Charlie    Male                True          False          False\n"
     ]
    }
   ],
   "source": [
    "# Convert categorical variables to dummy/indicator variables\n",
    "df_dummies = pd.get_dummies(df, columns=['Department'])\n",
    "# df_dummies = pd.get_dummies(df, columns=['Department'], drop_first=True)\n",
    "\n",
    "# Display the DataFrame with dummy variables\n",
    "print(\"\\nDataFrame with Dummy Variables:\")\n",
    "print(df_dummies)\n"
   ]
  },
  {
   "cell_type": "code",
   "execution_count": null,
   "id": "cfcb31c0-35a7-4be2-85ee-67da3c190691",
   "metadata": {},
   "outputs": [],
   "source": []
  }
 ],
 "metadata": {
  "kernelspec": {
   "display_name": "base",
   "language": "python",
   "name": "python3"
  },
  "language_info": {
   "codemirror_mode": {
    "name": "ipython",
    "version": 3
   },
   "file_extension": ".py",
   "mimetype": "text/x-python",
   "name": "python",
   "nbconvert_exporter": "python",
   "pygments_lexer": "ipython3",
   "version": "3.12.4"
  }
 },
 "nbformat": 4,
 "nbformat_minor": 5
}
